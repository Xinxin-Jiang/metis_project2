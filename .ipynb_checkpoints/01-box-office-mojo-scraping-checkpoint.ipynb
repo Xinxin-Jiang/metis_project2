{
 "cells": [
  {
   "cell_type": "code",
   "execution_count": 70,
   "metadata": {
    "ExecuteTime": {
     "end_time": "2019-10-01T04:14:41.479348Z",
     "start_time": "2019-10-01T04:14:41.475880Z"
    }
   },
   "outputs": [],
   "source": [
    "from __future__ import division, unicode_literals\n",
    "\n",
    "import pandas as pd\n",
    "import numpy as np\n",
    "\n",
    "import dateutil\n",
    "import datetime\n",
    "import time\n",
    "from time import sleep\n",
    "\n",
    "from bs4 import BeautifulSoup\n",
    "import requests\n",
    "\n",
    "import re\n",
    "import html5lib\n",
    "\n",
    "import pickle"
   ]
  },
  {
   "cell_type": "code",
   "execution_count": 4,
   "metadata": {
    "ExecuteTime": {
     "end_time": "2019-10-01T03:28:59.720107Z",
     "start_time": "2019-10-01T03:28:59.717080Z"
    }
   },
   "outputs": [],
   "source": [
    "pd.set_option('display.max_columns', None)\n",
    "pd.set_option('display.max_rows', 25)\n",
    "pd.set_option('display.precision', 3)"
   ]
  },
  {
   "cell_type": "code",
   "execution_count": 149,
   "metadata": {
    "ExecuteTime": {
     "end_time": "2019-10-01T06:08:03.004798Z",
     "start_time": "2019-10-01T06:08:03.002529Z"
    }
   },
   "outputs": [],
   "source": [
    "main_url='https://www.boxofficemojo.com'\n",
    "genre_page_url='https://www.boxofficemojo.com/genres/'"
   ]
  },
  {
   "cell_type": "code",
   "execution_count": 128,
   "metadata": {
    "ExecuteTime": {
     "end_time": "2019-10-01T05:23:39.603704Z",
     "start_time": "2019-10-01T05:23:39.585584Z"
    }
   },
   "outputs": [],
   "source": [
    "# import re\n",
    "# animation_genre_regex=re.compile('anim')\n",
    "# animation_genre_regex\n",
    "# genre_soup.find_all('a')"
   ]
  },
  {
   "cell_type": "code",
   "execution_count": 146,
   "metadata": {
    "ExecuteTime": {
     "end_time": "2019-10-01T05:59:17.737682Z",
     "start_time": "2019-10-01T05:59:17.734882Z"
    }
   },
   "outputs": [],
   "source": [
    "# make a soup of data out of a url\n",
    "def make_soup(url):\n",
    "    # request data from url\n",
    "    response=requests.get(url)\n",
    "    # get html data \n",
    "    page=response.text\n",
    "    # parse html data into lxml\n",
    "    soup=BeautifulSoup(page,'lxml')\n",
    "    return soup"
   ]
  },
  {
   "cell_type": "code",
   "execution_count": 161,
   "metadata": {
    "ExecuteTime": {
     "end_time": "2019-10-01T06:21:45.108201Z",
     "start_time": "2019-10-01T06:21:44.422206Z"
    },
    "scrolled": true
   },
   "outputs": [
    {
     "data": {
      "text/plain": [
       "['https://www.boxofficemojo.com/genres/chart/?id=animation.htm',\n",
       " 'https://www.boxofficemojo.com/genres/chart/?id=anime.htm',\n",
       " 'https://www.boxofficemojo.com/genres/chart/?id=computeranimation.htm',\n",
       " 'https://www.boxofficemojo.com/genres/chart/?id=animatedfantasy.htm',\n",
       " 'https://www.boxofficemojo.com/genres/chart/?id=animationmotioncap.htm',\n",
       " 'https://www.boxofficemojo.com/genres/chart/?id=scifianimation.htm',\n",
       " 'https://www.boxofficemojo.com/genres/chart/?id=animationstop.htm',\n",
       " 'https://www.boxofficemojo.com/genres/chart/?id=basedonanimatedtv.htm']"
      ]
     },
     "execution_count": 161,
     "metadata": {},
     "output_type": "execute_result"
    }
   ],
   "source": [
    "# get links to 8 subgenres pages under 'Animation'\n",
    "animation_subgenre_landing_urls = []\n",
    "genre_soup=make_soup(genre_page_url)\n",
    "for link in genre_soup.find_all('a'):\n",
    "    if ('chart' in str(link)) & ('Animation' in str(link)):\n",
    "        animation_subgenre_landing_urls.append(genre_page_url+link['href'][2:])\n",
    "\n",
    "animation_subgenre_landing_urls\n"
   ]
  },
  {
   "cell_type": "code",
   "execution_count": null,
   "metadata": {
    "ExecuteTime": {
     "end_time": "2019-10-01T06:40:27.730122Z",
     "start_time": "2019-10-01T06:40:23.730948Z"
    }
   },
   "outputs": [],
   "source": [
    "# from each subgenre landing page, get links to each additional page\n",
    "# example a-tag: <a href=\"/genres/chart/?view=main&amp;sort=gross&amp;order=DESC&amp-\n",
    "# ;pagenum=2&amp;id=anime.htm\">#101-116</a>\n",
    "# href contains 'chart' & 'pagenum='\n",
    "subgenre_page_urls=list(animation_subgenre_landing_urls)\n",
    "for url in animation_subgenre_landing_urls:\n",
    "    subgenre_landing_soup=make_soup(url)\n",
    "    for link in subgenre_landing_soup.find_all('a'):\n",
    "        if ('chart' in str(link)) & ('pagenum='in str(link)):\n",
    "            subgenre_page_urls.append(main_url+link['href'])\n",
    "\n",
    "# remove duplicates\n",
    "subgenre_page_urls=list(set(subgenre_page_urls))"
   ]
  },
  {
   "cell_type": "code",
   "execution_count": 192,
   "metadata": {
    "ExecuteTime": {
     "end_time": "2019-10-01T06:54:44.799661Z",
     "start_time": "2019-10-01T06:54:44.796321Z"
    }
   },
   "outputs": [
    {
     "data": {
      "text/plain": [
       "15"
      ]
     },
     "execution_count": 192,
     "metadata": {},
     "output_type": "execute_result"
    }
   ],
   "source": [
    "len(subgenre_page_urls)"
   ]
  },
  {
   "cell_type": "markdown",
   "metadata": {},
   "source": [
    "Iterate through the links one at a time.  \n",
    "* Make a new request for the link  \n",
    "* Turn the link into \"soup\"  \n",
    "* Extract the links from the link  \n",
    "* Store the address in the list  addr  "
   ]
  },
  {
   "cell_type": "code",
   "execution_count": 114,
   "metadata": {
    "ExecuteTime": {
     "end_time": "2019-10-01T05:07:37.566181Z",
     "start_time": "2019-10-01T05:07:37.563089Z"
    }
   },
   "outputs": [],
   "source": [
    "# url1 = 'https://www.boxofficemojo.com/genres/chart/?id=animation.htm'"
   ]
  },
  {
   "cell_type": "code",
   "execution_count": 190,
   "metadata": {
    "ExecuteTime": {
     "end_time": "2019-10-01T06:45:10.375779Z",
     "start_time": "2019-10-01T06:45:01.966092Z"
    },
    "collapsed": true
   },
   "outputs": [
    {
     "name": "stdout",
     "output_type": "stream",
     "text": [
      "70 https://www.boxofficemojo.com/genres/chart/?id=animatedfantasy.htm\n",
      "170 https://www.boxofficemojo.com/genres/chart/?id=animation.htm\n",
      "177 https://www.boxofficemojo.com/genres/chart/?id=animationmotioncap.htm\n",
      "204 https://www.boxofficemojo.com/genres/chart/?id=animationstop.htm\n",
      "304 https://www.boxofficemojo.com/genres/chart/?id=anime.htm\n",
      "348 https://www.boxofficemojo.com/genres/chart/?id=basedonanimatedtv.htm\n",
      "448 https://www.boxofficemojo.com/genres/chart/?id=computeranimation.htm\n",
      "496 https://www.boxofficemojo.com/genres/chart/?id=scifianimation.htm\n",
      "596 https://www.boxofficemojo.com/genres/chart/?view=main&sort=gross&order=DESC&pagenum=2&id=animation.htm\n",
      "612 https://www.boxofficemojo.com/genres/chart/?view=main&sort=gross&order=DESC&pagenum=2&id=anime.htm\n",
      "696 https://www.boxofficemojo.com/genres/chart/?view=main&sort=gross&order=DESC&pagenum=2&id=computeranimation.htm\n",
      "796 https://www.boxofficemojo.com/genres/chart/?view=main&sort=gross&order=DESC&pagenum=3&id=animation.htm\n",
      "896 https://www.boxofficemojo.com/genres/chart/?view=main&sort=gross&order=DESC&pagenum=4&id=animation.htm\n",
      "996 https://www.boxofficemojo.com/genres/chart/?view=main&sort=gross&order=DESC&pagenum=5&id=animation.htm\n",
      "1039 https://www.boxofficemojo.com/genres/chart/?view=main&sort=gross&order=DESC&pagenum=6&id=animation.htm\n"
     ]
    },
    {
     "data": {
      "text/plain": [
       "1039"
      ]
     },
     "execution_count": 190,
     "metadata": {},
     "output_type": "execute_result"
    }
   ],
   "source": [
    "# get movie links\n",
    "movie_links=[]\n",
    "for url in subgenre_page_urls:\n",
    "    page_soup=make_soup(url)\n",
    "    for link in page_soup.find('h1').findNextSibling('table').find_all('a'):\n",
    "            if '/movies/?id=' in str(link):\n",
    "                movie_links.append(main_url+link['href'])\n",
    "    print(len(movie_links),url)\n",
    "                \n",
    "len(movie_links)"
   ]
  },
  {
   "cell_type": "code",
   "execution_count": 191,
   "metadata": {
    "ExecuteTime": {
     "end_time": "2019-10-01T06:53:44.200383Z",
     "start_time": "2019-10-01T06:53:44.197021Z"
    }
   },
   "outputs": [
    {
     "data": {
      "text/plain": [
       "1017"
      ]
     },
     "execution_count": 191,
     "metadata": {},
     "output_type": "execute_result"
    }
   ],
   "source": [
    "# sanity check if number of movies scrapped matches records on the \n",
    "# genre index page: https://www.boxofficemojo.com/genres/\n",
    "# n_movies_scrapped = len(get_movie_urls(animation_subgenre_urls)) \n",
    "526+115+180+70+7+48+27+44"
   ]
  },
  {
   "cell_type": "markdown",
   "metadata": {},
   "source": [
    "> Scrapped 1039 movie links.  \n",
    "> Notice that some don't have a rank, which causes discrepancy from official movie counts (1017) on [Genre Index](https://www.boxofficemojo.com/genres/) page "
   ]
  },
  {
   "cell_type": "code",
   "execution_count": null,
   "metadata": {},
   "outputs": [],
   "source": []
  }
 ],
 "metadata": {
  "kernelspec": {
   "display_name": "Python 3",
   "language": "python",
   "name": "python3"
  },
  "language_info": {
   "codemirror_mode": {
    "name": "ipython",
    "version": 3
   },
   "file_extension": ".py",
   "mimetype": "text/x-python",
   "name": "python",
   "nbconvert_exporter": "python",
   "pygments_lexer": "ipython3",
   "version": "3.7.3"
  },
  "toc": {
   "base_numbering": 1,
   "nav_menu": {},
   "number_sections": true,
   "sideBar": true,
   "skip_h1_title": false,
   "title_cell": "Table of Contents",
   "title_sidebar": "Contents",
   "toc_cell": false,
   "toc_position": {},
   "toc_section_display": true,
   "toc_window_display": false
  }
 },
 "nbformat": 4,
 "nbformat_minor": 2
}
