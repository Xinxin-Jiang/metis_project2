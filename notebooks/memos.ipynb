{
 "cells": [
  {
   "cell_type": "code",
   "execution_count": 6,
   "metadata": {},
   "outputs": [],
   "source": [
    "import pandas as pd\n",
    "import matplotlib.pyplot as plt\n",
    "import numpy as np\n",
    "import seaborn as sns\n",
    "import pickle\n",
    "# from glob import glob\n",
    "from datetime import datetime, date, time, timedelta\n",
    "from collections import defaultdict"
   ]
  },
  {
   "cell_type": "code",
   "execution_count": 2,
   "metadata": {},
   "outputs": [],
   "source": [
    "# render graphs in the notebook & set svg format \n",
    "%config InlineBackend.figure_format = 'svg'\n",
    "%matplotlib inline"
   ]
  },
  {
   "cell_type": "code",
   "execution_count": 3,
   "metadata": {},
   "outputs": [],
   "source": [
    "# set pandas options\n",
    "pd.set_option('display.max_columns', None)\n",
    "pd.set_option('display.max_rows', 25)\n",
    "pd.set_option('display.precision', 3)"
   ]
  },
  {
   "cell_type": "code",
   "execution_count": null,
   "metadata": {},
   "outputs": [],
   "source": [
    "# set seaborn aethetics & remove top & right axes spines\n",
    "sns.set_style(\"ticks\")\n",
    "sns.despine()"
   ]
  },
  {
   "cell_type": "markdown",
   "metadata": {},
   "source": [
    "### About Pickle"
   ]
  },
  {
   "cell_type": "markdown",
   "metadata": {},
   "source": [
    "```python \n",
    "# Step1: pickle a DataFrame\n",
    "with open('my_dataframe.pickle', 'wb') as to_write:\n",
    "    pickle.dump(df, to_write)\n",
    "\n",
    "# Step2: delete the DataFrame\n",
    "del df\n",
    "\n",
    "# Step3: retrieve the DataFrame from pickle\n",
    "with open('mu_dataframe.pickle','rb') as read_file:\n",
    "    new_df = pickle.load(read_file)\n",
    "```"
   ]
  },
  {
   "cell_type": "markdown",
   "metadata": {},
   "source": [
    "### About Groupby"
   ]
  },
  {
   "cell_type": "markdown",
   "metadata": {},
   "source": [
    "```python\n",
    "(df\n",
    " .groupby(['income','native_country'])\n",
    " .mean()\n",
    " .reset_index()\n",
    " .sort_values(['income','age'], ascending=[True,False])\n",
    ")\n",
    "```"
   ]
  },
  {
   "cell_type": "markdown",
   "metadata": {},
   "source": [
    "### About Null"
   ]
  },
  {
   "cell_type": "markdown",
   "metadata": {},
   "source": [
    "```python\n",
    "df[df.age.isnull()]\n",
    "df.fillna(df.column1.median(), inplace=True)\n",
    "df.dropna(how = 'any')\n",
    "df.notnull()\n",
    "```"
   ]
  },
  {
   "cell_type": "markdown",
   "metadata": {},
   "source": [
    "```python\n",
    "df=pd.DataFrame({'name':[1,2,3]})\n",
    "df['Datetime']=pd.to_datetime(df['Datetime'])\n",
    "df['Day'] = df['Datetime'].dt.day_name()\n",
    "df.columns = df.columns.str.strip() # clean up strange column names with white spaces\n",
    "df.drop(columns='name',inplace=True)\n",
    "df.merge(df2,how='inner', left_on='', right_on='')\n",
    "df['ID'] = pd.Series(zip(df['C/A'], df['UNIT'], df['SCP'], df['STATION'])) # use zip to combine columns into 1 tuple\n",
    "```\n",
    "use `assert()` for sanity check!  \n",
    "use `pickle` for data reuse  \n",
    "`new_index = list(reversed(station.index))`# Create a reversed index so that stations display in descending order in the bar graph\n",
    "## Plot the bar chart of the top 5 stations"
   ]
  },
  {
   "cell_type": "markdown",
   "metadata": {},
   "source": [
    "```python\n",
    "plt.barh(station[new_index], entry_counts[new_index]);\n",
    "plt.xlabel('Passenger Count', fontsize = 14, weight = 'bold',color='black');\n",
    "plt.title('Top Five Stations by Passenger Count', fontsize = 15, weight = 'bold',color='black')\n",
    "plt.savefig('top_five_stations_barh.png')\n",
    "```"
   ]
  },
  {
   "cell_type": "code",
   "execution_count": null,
   "metadata": {},
   "outputs": [],
   "source": []
  }
 ],
 "metadata": {
  "kernelspec": {
   "display_name": "Python [conda env:metis] *",
   "language": "python",
   "name": "conda-env-metis-py"
  },
  "language_info": {
   "codemirror_mode": {
    "name": "ipython",
    "version": 3
   },
   "file_extension": ".py",
   "mimetype": "text/x-python",
   "name": "python",
   "nbconvert_exporter": "python",
   "pygments_lexer": "ipython3",
   "version": "3.7.4"
  }
 },
 "nbformat": 4,
 "nbformat_minor": 2
}
