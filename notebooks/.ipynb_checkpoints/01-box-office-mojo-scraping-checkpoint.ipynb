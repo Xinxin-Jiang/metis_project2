{
 "cells": [
  {
   "cell_type": "code",
   "execution_count": 3,
   "metadata": {
    "ExecuteTime": {
     "end_time": "2019-10-02T04:23:41.248864Z",
     "start_time": "2019-10-02T04:23:40.157860Z"
    }
   },
   "outputs": [],
   "source": [
    "from __future__ import division, unicode_literals\n",
    "\n",
    "import pandas as pd\n",
    "import numpy as np\n",
    "\n",
    "import dateutil\n",
    "import datetime\n",
    "import time\n",
    "from time import sleep\n",
    "\n",
    "from bs4 import BeautifulSoup\n",
    "import requests\n",
    "\n",
    "import re\n",
    "import html5lib\n",
    "\n",
    "import pickle"
   ]
  },
  {
   "cell_type": "code",
   "execution_count": 4,
   "metadata": {
    "ExecuteTime": {
     "end_time": "2019-10-02T04:23:41.253347Z",
     "start_time": "2019-10-02T04:23:41.250447Z"
    }
   },
   "outputs": [],
   "source": [
    "pd.set_option('display.max_columns', None)\n",
    "pd.set_option('display.max_rows', 25)\n",
    "pd.set_option('display.precision', 3)"
   ]
  },
  {
   "cell_type": "code",
   "execution_count": 5,
   "metadata": {
    "ExecuteTime": {
     "end_time": "2019-10-02T04:23:41.290806Z",
     "start_time": "2019-10-02T04:23:41.288571Z"
    }
   },
   "outputs": [],
   "source": [
    "main_url='https://www.boxofficemojo.com'\n",
    "genre_page_url='https://www.boxofficemojo.com/genres/'"
   ]
  },
  {
   "cell_type": "code",
   "execution_count": 6,
   "metadata": {
    "ExecuteTime": {
     "end_time": "2019-10-02T04:23:42.199946Z",
     "start_time": "2019-10-02T04:23:42.197915Z"
    }
   },
   "outputs": [],
   "source": [
    "# import re\n",
    "# animation_genre_regex=re.compile('anim')\n",
    "# animation_genre_regex\n",
    "# genre_soup.find_all('a')"
   ]
  },
  {
   "cell_type": "code",
   "execution_count": 7,
   "metadata": {
    "ExecuteTime": {
     "end_time": "2019-10-02T04:23:42.691407Z",
     "start_time": "2019-10-02T04:23:42.688197Z"
    }
   },
   "outputs": [],
   "source": [
    "# make a soup of data out of a url\n",
    "def make_soup(url):\n",
    "    # request data from url\n",
    "    response=requests.get(url)\n",
    "    # get html data \n",
    "    page=response.text\n",
    "    # parse html data into lxml\n",
    "    soup=BeautifulSoup(page,'lxml')\n",
    "    return soup"
   ]
  },
  {
   "cell_type": "code",
   "execution_count": 55,
   "metadata": {
    "ExecuteTime": {
     "end_time": "2019-10-02T05:25:18.258155Z",
     "start_time": "2019-10-02T05:25:18.254929Z"
    }
   },
   "outputs": [],
   "source": [
    "# for fields in ['Production Budget', 'Release Date', 'MPAA Rating', 'Distributer', 'Runtime'],\n",
    "# we retrieve the value of following tag, if any\n",
    "\n",
    "def get_movie_value(soup, field_name):\n",
    "    field = soup.find(text=re.compile(field_name))\n",
    "    if not field:\n",
    "        return None\n",
    "    value = field.findNextSibling()\n",
    "    if value:\n",
    "        return value.text\n",
    "    else:\n",
    "        return None"
   ]
  },
  {
   "cell_type": "code",
   "execution_count": 90,
   "metadata": {
    "ExecuteTime": {
     "end_time": "2019-10-02T05:34:07.523173Z",
     "start_time": "2019-10-02T05:34:07.518015Z"
    }
   },
   "outputs": [
    {
     "data": {
      "text/plain": [
       "'$540236469'"
      ]
     },
     "execution_count": 90,
     "metadata": {},
     "output_type": "execute_result"
    }
   ],
   "source": [
    "a = lionking.find(class_='mp_box_content')\n",
    "a.find_all('td')[1].text.strip()"
   ]
  },
  {
   "cell_type": "code",
   "execution_count": 58,
   "metadata": {
    "ExecuteTime": {
     "end_time": "2019-10-02T05:25:37.040936Z",
     "start_time": "2019-10-02T05:25:37.036286Z"
    }
   },
   "outputs": [
    {
     "data": {
      "text/plain": [
       "'Buena Vista'"
      ]
     },
     "execution_count": 58,
     "metadata": {},
     "output_type": "execute_result"
    }
   ],
   "source": [
    "a = lionking.find(text=re.compile('Distributor'))\n",
    "a.findNextSibling().text"
   ]
  },
  {
   "cell_type": "code",
   "execution_count": 161,
   "metadata": {
    "ExecuteTime": {
     "end_time": "2019-10-01T06:21:45.108201Z",
     "start_time": "2019-10-01T06:21:44.422206Z"
    },
    "scrolled": true
   },
   "outputs": [
    {
     "data": {
      "text/plain": [
       "['https://www.boxofficemojo.com/genres/chart/?id=animation.htm',\n",
       " 'https://www.boxofficemojo.com/genres/chart/?id=anime.htm',\n",
       " 'https://www.boxofficemojo.com/genres/chart/?id=computeranimation.htm',\n",
       " 'https://www.boxofficemojo.com/genres/chart/?id=animatedfantasy.htm',\n",
       " 'https://www.boxofficemojo.com/genres/chart/?id=animationmotioncap.htm',\n",
       " 'https://www.boxofficemojo.com/genres/chart/?id=scifianimation.htm',\n",
       " 'https://www.boxofficemojo.com/genres/chart/?id=animationstop.htm',\n",
       " 'https://www.boxofficemojo.com/genres/chart/?id=basedonanimatedtv.htm']"
      ]
     },
     "execution_count": 161,
     "metadata": {},
     "output_type": "execute_result"
    }
   ],
   "source": [
    "# get links to 8 subgenres pages under 'Animation'\n",
    "animation_subgenre_landing_urls = []\n",
    "genre_soup=make_soup(genre_page_url)\n",
    "for link in genre_soup.find_all('a'):\n",
    "    if ('chart' in str(link)) & ('Animation' in str(link)):\n",
    "        animation_subgenre_landing_urls.append(genre_page_url+link['href'][2:])\n",
    "\n",
    "animation_subgenre_landing_urls\n"
   ]
  },
  {
   "cell_type": "code",
   "execution_count": null,
   "metadata": {
    "ExecuteTime": {
     "end_time": "2019-10-01T06:40:27.730122Z",
     "start_time": "2019-10-01T06:40:23.730948Z"
    }
   },
   "outputs": [],
   "source": [
    "# from each subgenre landing page, get links to each additional page\n",
    "# example a-tag: <a href=\"/genres/chart/?view=main&amp;sort=gross&amp;order=DESC&amp-\n",
    "# ;pagenum=2&amp;id=anime.htm\">#101-116</a>\n",
    "# href contains 'chart' & 'pagenum='\n",
    "subgenre_page_urls=list(animation_subgenre_landing_urls)\n",
    "for url in animation_subgenre_landing_urls:\n",
    "    subgenre_landing_soup=make_soup(url)\n",
    "    for link in subgenre_landing_soup.find_all('a'):\n",
    "        if ('chart' in str(link)) & ('pagenum='in str(link)):\n",
    "            subgenre_page_urls.append(main_url+link['href'])\n",
    "\n",
    "# remove duplicates\n",
    "subgenre_page_urls=list(set(subgenre_page_urls))"
   ]
  },
  {
   "cell_type": "code",
   "execution_count": 192,
   "metadata": {
    "ExecuteTime": {
     "end_time": "2019-10-01T06:54:44.799661Z",
     "start_time": "2019-10-01T06:54:44.796321Z"
    }
   },
   "outputs": [
    {
     "data": {
      "text/plain": [
       "15"
      ]
     },
     "execution_count": 192,
     "metadata": {},
     "output_type": "execute_result"
    }
   ],
   "source": [
    "len(subgenre_page_urls)"
   ]
  },
  {
   "cell_type": "markdown",
   "metadata": {},
   "source": [
    "Iterate through the links one at a time.  \n",
    "* Make a new request for the link  \n",
    "* Turn the link into \"soup\"  \n",
    "* Extract the links from the link  \n",
    "* Store the address in the list  addr  "
   ]
  },
  {
   "cell_type": "code",
   "execution_count": 114,
   "metadata": {
    "ExecuteTime": {
     "end_time": "2019-10-01T05:07:37.566181Z",
     "start_time": "2019-10-01T05:07:37.563089Z"
    }
   },
   "outputs": [],
   "source": [
    "# url1 = 'https://www.boxofficemojo.com/genres/chart/?id=animation.htm'"
   ]
  },
  {
   "cell_type": "code",
   "execution_count": 190,
   "metadata": {
    "ExecuteTime": {
     "end_time": "2019-10-01T06:45:10.375779Z",
     "start_time": "2019-10-01T06:45:01.966092Z"
    },
    "collapsed": true
   },
   "outputs": [
    {
     "name": "stdout",
     "output_type": "stream",
     "text": [
      "70 https://www.boxofficemojo.com/genres/chart/?id=animatedfantasy.htm\n",
      "170 https://www.boxofficemojo.com/genres/chart/?id=animation.htm\n",
      "177 https://www.boxofficemojo.com/genres/chart/?id=animationmotioncap.htm\n",
      "204 https://www.boxofficemojo.com/genres/chart/?id=animationstop.htm\n",
      "304 https://www.boxofficemojo.com/genres/chart/?id=anime.htm\n",
      "348 https://www.boxofficemojo.com/genres/chart/?id=basedonanimatedtv.htm\n",
      "448 https://www.boxofficemojo.com/genres/chart/?id=computeranimation.htm\n",
      "496 https://www.boxofficemojo.com/genres/chart/?id=scifianimation.htm\n",
      "596 https://www.boxofficemojo.com/genres/chart/?view=main&sort=gross&order=DESC&pagenum=2&id=animation.htm\n",
      "612 https://www.boxofficemojo.com/genres/chart/?view=main&sort=gross&order=DESC&pagenum=2&id=anime.htm\n",
      "696 https://www.boxofficemojo.com/genres/chart/?view=main&sort=gross&order=DESC&pagenum=2&id=computeranimation.htm\n",
      "796 https://www.boxofficemojo.com/genres/chart/?view=main&sort=gross&order=DESC&pagenum=3&id=animation.htm\n",
      "896 https://www.boxofficemojo.com/genres/chart/?view=main&sort=gross&order=DESC&pagenum=4&id=animation.htm\n",
      "996 https://www.boxofficemojo.com/genres/chart/?view=main&sort=gross&order=DESC&pagenum=5&id=animation.htm\n",
      "1039 https://www.boxofficemojo.com/genres/chart/?view=main&sort=gross&order=DESC&pagenum=6&id=animation.htm\n"
     ]
    },
    {
     "data": {
      "text/plain": [
       "1039"
      ]
     },
     "execution_count": 190,
     "metadata": {},
     "output_type": "execute_result"
    }
   ],
   "source": [
    "# get movie links\n",
    "movie_links=[]\n",
    "for url in subgenre_page_urls:\n",
    "    page_soup=make_soup(url)\n",
    "    for link in page_soup.find('h1').findNextSibling('table').find_all('a'):\n",
    "            if '/movies/?id=' in str(link):\n",
    "                movie_links.append(main_url+link['href'])\n",
    "    print(len(movie_links),url)\n",
    "                \n",
    "len(movie_links)"
   ]
  },
  {
   "cell_type": "code",
   "execution_count": 191,
   "metadata": {
    "ExecuteTime": {
     "end_time": "2019-10-01T06:53:44.200383Z",
     "start_time": "2019-10-01T06:53:44.197021Z"
    }
   },
   "outputs": [
    {
     "data": {
      "text/plain": [
       "1017"
      ]
     },
     "execution_count": 191,
     "metadata": {},
     "output_type": "execute_result"
    }
   ],
   "source": [
    "# sanity check if number of movies scrapped matches records on the \n",
    "# genre index page: https://www.boxofficemojo.com/genres/\n",
    "# n_movies_scrapped = len(get_movie_urls(animation_subgenre_urls)) \n",
    "526+115+180+70+7+48+27+44"
   ]
  },
  {
   "cell_type": "markdown",
   "metadata": {},
   "source": [
    "> Scrapped 1039 movie links.  \n",
    "> Notice that some don't have a rank, which causes discrepancy from official movie counts (1017) on [Genre Index](https://www.boxofficemojo.com/genres/) page "
   ]
  },
  {
   "cell_type": "code",
   "execution_count": 181,
   "metadata": {
    "ExecuteTime": {
     "end_time": "2019-10-02T06:35:35.192010Z",
     "start_time": "2019-10-02T06:35:34.601626Z"
    }
   },
   "outputs": [
    {
     "data": {
      "text/plain": [
       "bs4.BeautifulSoup"
      ]
     },
     "execution_count": 181,
     "metadata": {},
     "output_type": "execute_result"
    }
   ],
   "source": [
    "# (full info)\n",
    "movie_url= 'https://www.boxofficemojo.com/movies/?id=lionkingliveaction.htm' \n",
    "# (no info on production crew at all)\n",
    "# movie_url= 'https://www.boxofficemojo.com/movies/?id=yugioh.htm' \n",
    "# (only 2 minor actors have links)\n",
    "# movie_url= 'https://www.boxofficemojo.com/movies/?id=pixar2014.htm' (only 2 minor actors have links)\n",
    "lionking=make_soup(movie_url)\n",
    "type(lionking)"
   ]
  },
  {
   "cell_type": "code",
   "execution_count": 217,
   "metadata": {
    "ExecuteTime": {
     "end_time": "2019-10-02T07:11:11.792877Z",
     "start_time": "2019-10-02T07:11:11.738053Z"
    }
   },
   "outputs": [
    {
     "data": {
      "text/plain": [
       "{'title': 'The Lion King',\n",
       " 'production_budget': '$260 million',\n",
       " 'runtime': '1 hrs. 58 min.',\n",
       " 'release_date': 'July 19, 2019',\n",
       " 'mpaa_rating': 'PG',\n",
       " 'distributor': 'Buena Vista',\n",
       " 'opening_weekend': '$540,236,469',\n",
       " 'director': 'Jon Favreau',\n",
       " 'director_url': 'https://www.boxofficemojo.com/people/chart/?view=Director&id=jonfavreau.htm',\n",
       " 'composer': 'Hans Zimmer',\n",
       " 'composer_url': 'https://www.boxofficemojo.com/people/chart/?view=Composer&id=hanszimmer.htm',\n",
       " 'actor1': 'James Earl Jones',\n",
       " 'actor2': 'Beyonce Knowles',\n",
       " 'actor3': 'Chiwetel Ejiofor'}"
      ]
     },
     "execution_count": 217,
     "metadata": {},
     "output_type": "execute_result"
    }
   ],
   "source": [
    "# try find a keyword; if no match, return None\n",
    "# try find the value for the keyword; if no match, pass\n",
    "# try find the url for the value; if no match, pass\n",
    "#???????????????????????????????????????????????????????\n",
    "field_list1 = ['Production Budget', 'Runtime', 'Release Date', 'MPAA Rating', 'Distributor']\n",
    "field_list2 = ['Director','Composer']\n",
    "\n",
    "d={}\n",
    "# get title\n",
    "d['title']=lionking.find('title').text.split(' (')[0]\n",
    "\n",
    "# get easy ones (values in sibling object, barely need for 'try&except')\n",
    "for field in field_list1:\n",
    "    field_key=field.lower().replace(' ','_')\n",
    "    try:\n",
    "        d[field_key]=lionking.find(text=re.compile(field)).findNextSibling().text\n",
    "    except: \n",
    "        pass\n",
    "\n",
    "# get opening weekend sales\n",
    "d['opening_weekend'] = lionking.find(class_='mp_box_content').find_all('td')[1].text.strip()\n",
    "\n",
    "# get main director & composer\n",
    "for field in field_list2:\n",
    "    try:\n",
    "        d[field.lower()]=lionking.find(text=re.compile(field)).findNext('a').text\n",
    "    except:\n",
    "        pass\n",
    "    try:\n",
    "        d['{}_url'.format(field.lower())]=main_url+lionking.find(text=re.compile(field)).findNext('a')['href']\n",
    "    except:\n",
    "        pass\n",
    "\n",
    "# get 3 main actors\n",
    "for i in range(1,4):\n",
    "    # try searching for \"Actors\"; if no results, .text throws an error, exit loop\n",
    "    # in the loop: \n",
    "    if not lionking.find(text=re.compile('Actors')): \n",
    "        break\n",
    "    try:\n",
    "        d['actor{}'.format(i)]=lionking.find_all(href=re.compile('Actor&id='))[i].text\n",
    "        d['actor1_url']=main_url+lionking.find_all(text=re.compile('Actor')).findNext('a')['href']\n",
    "    except:\n",
    "        pass\n",
    "d"
   ]
  },
  {
   "cell_type": "code",
   "execution_count": 205,
   "metadata": {
    "ExecuteTime": {
     "end_time": "2019-10-02T06:57:47.785409Z",
     "start_time": "2019-10-02T06:57:47.781200Z"
    },
    "collapsed": true
   },
   "outputs": [
    {
     "name": "stdout",
     "output_type": "stream",
     "text": [
      "<div class=\"mp_box_content\">\n",
      " <table border=\"0\" cellpadding=\"0\" cellspacing=\"0\">\n",
      "  <tr>\n",
      "   <td width=\"40%\">\n",
      "    <b>\n",
      "     Domestic:\n",
      "    </b>\n",
      "   </td>\n",
      "   <td align=\"right\" width=\"35%\">\n",
      "    <b>\n",
      "     $540,236,469\n",
      "    </b>\n",
      "   </td>\n",
      "   <td align=\"right\" width=\"25%\">\n",
      "    <b>\n",
      "     32.9%\n",
      "    </b>\n",
      "   </td>\n",
      "  </tr>\n",
      "  <tr>\n",
      "   <td width=\"40%\">\n",
      "    +\n",
      "    <a href=\"/movies/?page=intl&amp;id=lionkingliveaction.htm\">\n",
      "     Foreign:\n",
      "    </a>\n",
      "   </td>\n",
      "   <td align=\"right\" width=\"35%\">\n",
      "    $1,100,238,441\n",
      "   </td>\n",
      "   <td align=\"right\" width=\"25%\">\n",
      "    67.1%\n",
      "   </td>\n",
      "  </tr>\n",
      "  <tr>\n",
      "   <td colspan=\"3\" width=\"100%\">\n",
      "    <hr/>\n",
      "   </td>\n",
      "  </tr>\n",
      "  <tr>\n",
      "   <td width=\"40%\">\n",
      "    =\n",
      "    <b>\n",
      "     Worldwide:\n",
      "    </b>\n",
      "   </td>\n",
      "   <td align=\"right\" width=\"35%\">\n",
      "    <b>\n",
      "     $1,640,474,910\n",
      "    </b>\n",
      "   </td>\n",
      "   <td width=\"25%\">\n",
      "   </td>\n",
      "  </tr>\n",
      " </table>\n",
      "</div>\n",
      "\n"
     ]
    }
   ],
   "source": [
    "print(lionking.find(class_='mp_box_content').prettify())"
   ]
  },
  {
   "cell_type": "code",
   "execution_count": null,
   "metadata": {},
   "outputs": [],
   "source": [
    "list_of_dicts=[]\n",
    "for url in movie_links:\n",
    "    d={}\n",
    "    movie_soup=make_soup(url)\n",
    "    d['name']=movie_soup.find()"
   ]
  }
 ],
 "metadata": {
  "kernelspec": {
   "display_name": "Python 3",
   "language": "python",
   "name": "python3"
  },
  "language_info": {
   "codemirror_mode": {
    "name": "ipython",
    "version": 3
   },
   "file_extension": ".py",
   "mimetype": "text/x-python",
   "name": "python",
   "nbconvert_exporter": "python",
   "pygments_lexer": "ipython3",
   "version": "3.7.3"
  },
  "toc": {
   "base_numbering": 1,
   "nav_menu": {},
   "number_sections": true,
   "sideBar": true,
   "skip_h1_title": false,
   "title_cell": "Table of Contents",
   "title_sidebar": "Contents",
   "toc_cell": false,
   "toc_position": {},
   "toc_section_display": true,
   "toc_window_display": false
  }
 },
 "nbformat": 4,
 "nbformat_minor": 2
}
